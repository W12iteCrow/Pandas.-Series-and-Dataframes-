{
 "cells": [
  {
   "cell_type": "markdown",
   "id": "9116065d",
   "metadata": {},
   "source": [
    "Pandas is based on numpy. Series are similar to numpy array/ difference is that series don't have access labels (not indexes)"
   ]
  },
  {
   "cell_type": "markdown",
   "id": "aa1ed9f7",
   "metadata": {},
   "source": [
    "1. Создать список my_data  из чисел 10,20,30 и с помощью array преобразовать в одномерный массив arr"
   ]
  },
  {
   "cell_type": "code",
   "execution_count": 2,
   "id": "fae85fda",
   "metadata": {},
   "outputs": [
    {
     "data": {
      "text/plain": [
       "<IntegerArray>\n",
       "[10, 20, 30]\n",
       "Length: 3, dtype: Int64"
      ]
     },
     "execution_count": 2,
     "metadata": {},
     "output_type": "execute_result"
    }
   ],
   "source": [
    "import pandas as pd\n",
    "\n",
    "my_data = [10,20,30]\n",
    "     \n",
    "arr = pd.array(my_data)\n",
    "arr"
   ]
  },
  {
   "cell_type": "markdown",
   "id": "3b72505f",
   "metadata": {},
   "source": [
    "2. my_data передать в pd.Series в качестве  данных"
   ]
  },
  {
   "cell_type": "code",
   "execution_count": 9,
   "id": "27f4342a",
   "metadata": {},
   "outputs": [
    {
     "data": {
      "text/plain": [
       "0    10\n",
       "1    20\n",
       "2    30\n",
       "dtype: int64"
      ]
     },
     "execution_count": 9,
     "metadata": {},
     "output_type": "execute_result"
    }
   ],
   "source": [
    "series = pd.Series(my_data)\n",
    "series"
   ]
  },
  {
   "cell_type": "markdown",
   "id": "2f24ddcf",
   "metadata": {},
   "source": [
    "3. Как левое числовое индексирование поменять на буквенное?"
   ]
  },
  {
   "cell_type": "code",
   "execution_count": 14,
   "id": "12ccabfa",
   "metadata": {},
   "outputs": [
    {
     "data": {
      "text/plain": [
       "a    10\n",
       "b    20\n",
       "c    30\n",
       "dtype: int64"
      ]
     },
     "execution_count": 14,
     "metadata": {},
     "output_type": "execute_result"
    }
   ],
   "source": [
    "series.index = ['a', 'b', 'c']\n",
    "series"
   ]
  },
  {
   "cell_type": "markdown",
   "id": "734c56eb",
   "metadata": {},
   "source": [
    "3. Как с использованием pandas series создать серию ser1, в которой ключами выступают страны, а значениями числа (см вывод ниже)"
   ]
  },
  {
   "cell_type": "code",
   "execution_count": 15,
   "id": "688cfb5f",
   "metadata": {},
   "outputs": [
    {
     "data": {
      "text/plain": [
       "USA        1\n",
       "Germany    2\n",
       "Italy      5\n",
       "Japan      4\n",
       "dtype: int64"
      ]
     },
     "execution_count": 15,
     "metadata": {},
     "output_type": "execute_result"
    }
   ],
   "source": [
    "ser1 = pd.Series({'USA': 1, 'Germany': 2, 'Italy': 5, 'Japan': 4})\n",
    "ser1"
   ]
  },
  {
   "cell_type": "markdown",
   "id": "b0e04f7b",
   "metadata": {},
   "source": [
    "4. По такому же принципу создать серию ser2 из данных ниже"
   ]
  },
  {
   "cell_type": "code",
   "execution_count": 16,
   "id": "07fbbed4",
   "metadata": {},
   "outputs": [
    {
     "data": {
      "text/plain": [
       "USA        1\n",
       "Germany    2\n",
       "USSR       3\n",
       "Japan      4\n",
       "dtype: int64"
      ]
     },
     "execution_count": 16,
     "metadata": {},
     "output_type": "execute_result"
    }
   ],
   "source": [
    "ser2 = pd.Series({'USA': 1, 'Germany': 2, 'USSR': 3, 'Japan': 4})\n",
    "ser2"
   ]
  },
  {
   "cell_type": "markdown",
   "id": "9b53ec78",
   "metadata": {},
   "source": [
    "5. Соедините ser1 и ser2. Почему получен данный результат?"
   ]
  },
  {
   "cell_type": "code",
   "execution_count": 17,
   "id": "8790c29d",
   "metadata": {},
   "outputs": [
    {
     "name": "stderr",
     "output_type": "stream",
     "text": [
      "C:\\Users\\user\\AppData\\Local\\Temp\\ipykernel_19292\\4286826316.py:1: FutureWarning: The series.append method is deprecated and will be removed from pandas in a future version. Use pandas.concat instead.\n",
      "  combined_series = ser1.append(ser2)\n"
     ]
    },
    {
     "data": {
      "text/plain": [
       "USA        1\n",
       "Germany    2\n",
       "Italy      5\n",
       "Japan      4\n",
       "USA        1\n",
       "Germany    2\n",
       "USSR       3\n",
       "Japan      4\n",
       "dtype: int64"
      ]
     },
     "execution_count": 17,
     "metadata": {},
     "output_type": "execute_result"
    }
   ],
   "source": [
    "combined_series = ser1.append(ser2)\n",
    "combined_series"
   ]
  },
  {
   "cell_type": "markdown",
   "id": "343b9f37",
   "metadata": {},
   "source": [
    "6. С использованием DataFrame создать массив df с заголовками в столбцах ['A', 'B', 'C', 'D', 'E'], в строках ['W','X','Y','Z'] в котором соответственно содержится 5 строк и 4 столбца и заполняются случайными числами с помощью randn "
   ]
  },
  {
   "cell_type": "code",
   "execution_count": 19,
   "id": "f651e865",
   "metadata": {},
   "outputs": [],
   "source": [
    "import numpy as np"
   ]
  },
  {
   "cell_type": "code",
   "execution_count": 20,
   "id": "ea9e2396",
   "metadata": {},
   "outputs": [
    {
     "data": {
      "text/html": [
       "<div>\n",
       "<style scoped>\n",
       "    .dataframe tbody tr th:only-of-type {\n",
       "        vertical-align: middle;\n",
       "    }\n",
       "\n",
       "    .dataframe tbody tr th {\n",
       "        vertical-align: top;\n",
       "    }\n",
       "\n",
       "    .dataframe thead th {\n",
       "        text-align: right;\n",
       "    }\n",
       "</style>\n",
       "<table border=\"1\" class=\"dataframe\">\n",
       "  <thead>\n",
       "    <tr style=\"text-align: right;\">\n",
       "      <th></th>\n",
       "      <th>A</th>\n",
       "      <th>B</th>\n",
       "      <th>C</th>\n",
       "      <th>D</th>\n",
       "      <th>E</th>\n",
       "    </tr>\n",
       "  </thead>\n",
       "  <tbody>\n",
       "    <tr>\n",
       "      <th>W</th>\n",
       "      <td>1.764052</td>\n",
       "      <td>0.400157</td>\n",
       "      <td>0.978738</td>\n",
       "      <td>2.240893</td>\n",
       "      <td>1.867558</td>\n",
       "    </tr>\n",
       "    <tr>\n",
       "      <th>X</th>\n",
       "      <td>-0.977278</td>\n",
       "      <td>0.950088</td>\n",
       "      <td>-0.151357</td>\n",
       "      <td>-0.103219</td>\n",
       "      <td>0.410599</td>\n",
       "    </tr>\n",
       "    <tr>\n",
       "      <th>Y</th>\n",
       "      <td>0.144044</td>\n",
       "      <td>1.454274</td>\n",
       "      <td>0.761038</td>\n",
       "      <td>0.121675</td>\n",
       "      <td>0.443863</td>\n",
       "    </tr>\n",
       "    <tr>\n",
       "      <th>Z</th>\n",
       "      <td>0.333674</td>\n",
       "      <td>1.494079</td>\n",
       "      <td>-0.205158</td>\n",
       "      <td>0.313068</td>\n",
       "      <td>-0.854096</td>\n",
       "    </tr>\n",
       "  </tbody>\n",
       "</table>\n",
       "</div>"
      ],
      "text/plain": [
       "          A         B         C         D         E\n",
       "W  1.764052  0.400157  0.978738  2.240893  1.867558\n",
       "X -0.977278  0.950088 -0.151357 -0.103219  0.410599\n",
       "Y  0.144044  1.454274  0.761038  0.121675  0.443863\n",
       "Z  0.333674  1.494079 -0.205158  0.313068 -0.854096"
      ]
     },
     "execution_count": 20,
     "metadata": {},
     "output_type": "execute_result"
    }
   ],
   "source": [
    "np.random.seed(0)\n",
    "df = pd.DataFrame(np.random.randn(4, 5), index=['W', 'X', 'Y', 'Z'], columns=['A', 'B', 'C', 'D', 'E'])\n",
    "df"
   ]
  },
  {
   "cell_type": "markdown",
   "id": "99d34b60",
   "metadata": {},
   "source": [
    "7. Вывести все значения столбца W"
   ]
  },
  {
   "cell_type": "code",
   "execution_count": 24,
   "id": "4c627429",
   "metadata": {},
   "outputs": [
    {
     "data": {
      "text/plain": [
       "W    1.764052\n",
       "X   -0.977278\n",
       "Y    0.144044\n",
       "Z    0.333674\n",
       "Name: A, dtype: float64"
      ]
     },
     "execution_count": 24,
     "metadata": {},
     "output_type": "execute_result"
    }
   ],
   "source": [
    "df.iloc[:, 0]"
   ]
  },
  {
   "cell_type": "markdown",
   "id": "0fe6d26a",
   "metadata": {},
   "source": [
    "8. Вывести тип столбца W и тип датафрема df"
   ]
  },
  {
   "cell_type": "code",
   "execution_count": 27,
   "id": "4cf2aea9",
   "metadata": {},
   "outputs": [
    {
     "data": {
      "text/plain": [
       "dtype('float64')"
      ]
     },
     "execution_count": 27,
     "metadata": {},
     "output_type": "execute_result"
    }
   ],
   "source": [
    "df.iloc[:, 0].dtype"
   ]
  },
  {
   "cell_type": "code",
   "execution_count": 28,
   "id": "f202cddb",
   "metadata": {},
   "outputs": [
    {
     "data": {
      "text/plain": [
       "A    float64\n",
       "B    float64\n",
       "C    float64\n",
       "D    float64\n",
       "E    float64\n",
       "dtype: object"
      ]
     },
     "execution_count": 28,
     "metadata": {},
     "output_type": "execute_result"
    }
   ],
   "source": [
    "df.dtypes"
   ]
  },
  {
   "cell_type": "markdown",
   "id": "5f1d0b9b",
   "metadata": {},
   "source": [
    "9. Вывести все значения столбцов W и Z"
   ]
  },
  {
   "cell_type": "code",
   "execution_count": 30,
   "id": "47bbdbbe",
   "metadata": {},
   "outputs": [
    {
     "data": {
      "text/html": [
       "<div>\n",
       "<style scoped>\n",
       "    .dataframe tbody tr th:only-of-type {\n",
       "        vertical-align: middle;\n",
       "    }\n",
       "\n",
       "    .dataframe tbody tr th {\n",
       "        vertical-align: top;\n",
       "    }\n",
       "\n",
       "    .dataframe thead th {\n",
       "        text-align: right;\n",
       "    }\n",
       "</style>\n",
       "<table border=\"1\" class=\"dataframe\">\n",
       "  <thead>\n",
       "    <tr style=\"text-align: right;\">\n",
       "      <th></th>\n",
       "      <th>A</th>\n",
       "      <th>E</th>\n",
       "    </tr>\n",
       "  </thead>\n",
       "  <tbody>\n",
       "    <tr>\n",
       "      <th>W</th>\n",
       "      <td>1.764052</td>\n",
       "      <td>1.867558</td>\n",
       "    </tr>\n",
       "    <tr>\n",
       "      <th>X</th>\n",
       "      <td>-0.977278</td>\n",
       "      <td>0.410599</td>\n",
       "    </tr>\n",
       "    <tr>\n",
       "      <th>Y</th>\n",
       "      <td>0.144044</td>\n",
       "      <td>0.443863</td>\n",
       "    </tr>\n",
       "    <tr>\n",
       "      <th>Z</th>\n",
       "      <td>0.333674</td>\n",
       "      <td>-0.854096</td>\n",
       "    </tr>\n",
       "  </tbody>\n",
       "</table>\n",
       "</div>"
      ],
      "text/plain": [
       "          A         E\n",
       "W  1.764052  1.867558\n",
       "X -0.977278  0.410599\n",
       "Y  0.144044  0.443863\n",
       "Z  0.333674 -0.854096"
      ]
     },
     "execution_count": 30,
     "metadata": {},
     "output_type": "execute_result"
    }
   ],
   "source": [
    "df.iloc[:, [0, -1]]"
   ]
  },
  {
   "cell_type": "markdown",
   "id": "a5bf1831",
   "metadata": {},
   "source": [
    "10. Создать новый столбец 'new' для которого необходимо просуммировать столбцы W и Y"
   ]
  },
  {
   "cell_type": "code",
   "execution_count": 31,
   "id": "7af6485d",
   "metadata": {},
   "outputs": [
    {
     "data": {
      "text/html": [
       "<div>\n",
       "<style scoped>\n",
       "    .dataframe tbody tr th:only-of-type {\n",
       "        vertical-align: middle;\n",
       "    }\n",
       "\n",
       "    .dataframe tbody tr th {\n",
       "        vertical-align: top;\n",
       "    }\n",
       "\n",
       "    .dataframe thead th {\n",
       "        text-align: right;\n",
       "    }\n",
       "</style>\n",
       "<table border=\"1\" class=\"dataframe\">\n",
       "  <thead>\n",
       "    <tr style=\"text-align: right;\">\n",
       "      <th></th>\n",
       "      <th>A</th>\n",
       "      <th>B</th>\n",
       "      <th>C</th>\n",
       "      <th>D</th>\n",
       "      <th>E</th>\n",
       "      <th>new</th>\n",
       "    </tr>\n",
       "  </thead>\n",
       "  <tbody>\n",
       "    <tr>\n",
       "      <th>W</th>\n",
       "      <td>1.764052</td>\n",
       "      <td>0.400157</td>\n",
       "      <td>0.978738</td>\n",
       "      <td>2.240893</td>\n",
       "      <td>1.867558</td>\n",
       "      <td>2.742790</td>\n",
       "    </tr>\n",
       "    <tr>\n",
       "      <th>X</th>\n",
       "      <td>-0.977278</td>\n",
       "      <td>0.950088</td>\n",
       "      <td>-0.151357</td>\n",
       "      <td>-0.103219</td>\n",
       "      <td>0.410599</td>\n",
       "      <td>-1.128635</td>\n",
       "    </tr>\n",
       "    <tr>\n",
       "      <th>Y</th>\n",
       "      <td>0.144044</td>\n",
       "      <td>1.454274</td>\n",
       "      <td>0.761038</td>\n",
       "      <td>0.121675</td>\n",
       "      <td>0.443863</td>\n",
       "      <td>0.905081</td>\n",
       "    </tr>\n",
       "    <tr>\n",
       "      <th>Z</th>\n",
       "      <td>0.333674</td>\n",
       "      <td>1.494079</td>\n",
       "      <td>-0.205158</td>\n",
       "      <td>0.313068</td>\n",
       "      <td>-0.854096</td>\n",
       "      <td>0.128516</td>\n",
       "    </tr>\n",
       "  </tbody>\n",
       "</table>\n",
       "</div>"
      ],
      "text/plain": [
       "          A         B         C         D         E       new\n",
       "W  1.764052  0.400157  0.978738  2.240893  1.867558  2.742790\n",
       "X -0.977278  0.950088 -0.151357 -0.103219  0.410599 -1.128635\n",
       "Y  0.144044  1.454274  0.761038  0.121675  0.443863  0.905081\n",
       "Z  0.333674  1.494079 -0.205158  0.313068 -0.854096  0.128516"
      ]
     },
     "execution_count": 31,
     "metadata": {},
     "output_type": "execute_result"
    }
   ],
   "source": [
    "df['new'] = df.iloc[:, 0] + df.iloc[:, 2]\n",
    "df"
   ]
  },
  {
   "cell_type": "markdown",
   "id": "4bcfd9d9",
   "metadata": {},
   "source": [
    "11. Удалить столбец 'new'"
   ]
  },
  {
   "cell_type": "code",
   "execution_count": 34,
   "id": "d6f8caf2",
   "metadata": {},
   "outputs": [
    {
     "data": {
      "text/html": [
       "<div>\n",
       "<style scoped>\n",
       "    .dataframe tbody tr th:only-of-type {\n",
       "        vertical-align: middle;\n",
       "    }\n",
       "\n",
       "    .dataframe tbody tr th {\n",
       "        vertical-align: top;\n",
       "    }\n",
       "\n",
       "    .dataframe thead th {\n",
       "        text-align: right;\n",
       "    }\n",
       "</style>\n",
       "<table border=\"1\" class=\"dataframe\">\n",
       "  <thead>\n",
       "    <tr style=\"text-align: right;\">\n",
       "      <th></th>\n",
       "      <th>A</th>\n",
       "      <th>B</th>\n",
       "      <th>C</th>\n",
       "      <th>D</th>\n",
       "      <th>E</th>\n",
       "    </tr>\n",
       "  </thead>\n",
       "  <tbody>\n",
       "    <tr>\n",
       "      <th>W</th>\n",
       "      <td>1.764052</td>\n",
       "      <td>0.400157</td>\n",
       "      <td>0.978738</td>\n",
       "      <td>2.240893</td>\n",
       "      <td>1.867558</td>\n",
       "    </tr>\n",
       "    <tr>\n",
       "      <th>X</th>\n",
       "      <td>-0.977278</td>\n",
       "      <td>0.950088</td>\n",
       "      <td>-0.151357</td>\n",
       "      <td>-0.103219</td>\n",
       "      <td>0.410599</td>\n",
       "    </tr>\n",
       "    <tr>\n",
       "      <th>Y</th>\n",
       "      <td>0.144044</td>\n",
       "      <td>1.454274</td>\n",
       "      <td>0.761038</td>\n",
       "      <td>0.121675</td>\n",
       "      <td>0.443863</td>\n",
       "    </tr>\n",
       "    <tr>\n",
       "      <th>Z</th>\n",
       "      <td>0.333674</td>\n",
       "      <td>1.494079</td>\n",
       "      <td>-0.205158</td>\n",
       "      <td>0.313068</td>\n",
       "      <td>-0.854096</td>\n",
       "    </tr>\n",
       "  </tbody>\n",
       "</table>\n",
       "</div>"
      ],
      "text/plain": [
       "          A         B         C         D         E\n",
       "W  1.764052  0.400157  0.978738  2.240893  1.867558\n",
       "X -0.977278  0.950088 -0.151357 -0.103219  0.410599\n",
       "Y  0.144044  1.454274  0.761038  0.121675  0.443863\n",
       "Z  0.333674  1.494079 -0.205158  0.313068 -0.854096"
      ]
     },
     "execution_count": 34,
     "metadata": {},
     "output_type": "execute_result"
    }
   ],
   "source": [
    "df = df.drop('new', axis=1)\n",
    "df"
   ]
  },
  {
   "cell_type": "markdown",
   "id": "75d88077",
   "metadata": {},
   "source": [
    "12. Удалить строку 'E', не применяя изменения к существующему df"
   ]
  },
  {
   "cell_type": "code",
   "execution_count": 35,
   "id": "f5e7bc3c",
   "metadata": {},
   "outputs": [],
   "source": [
    "df_dropped_E = df.drop(df.index[-1])"
   ]
  },
  {
   "cell_type": "markdown",
   "id": "66ac61a0",
   "metadata": {},
   "source": [
    "13. Вывести количество строк и столбцов"
   ]
  },
  {
   "cell_type": "code",
   "execution_count": 36,
   "id": "ab6011b6",
   "metadata": {},
   "outputs": [
    {
     "data": {
      "text/plain": [
       "(4, 5)"
      ]
     },
     "execution_count": 36,
     "metadata": {},
     "output_type": "execute_result"
    }
   ],
   "source": [
    "df.shape"
   ]
  },
  {
   "cell_type": "markdown",
   "id": "82719b4c",
   "metadata": {},
   "source": [
    "14. Вывести значения столбца 'Y'"
   ]
  },
  {
   "cell_type": "code",
   "execution_count": 37,
   "id": "e67e6214",
   "metadata": {},
   "outputs": [
    {
     "data": {
      "text/plain": [
       "W    0.978738\n",
       "X   -0.151357\n",
       "Y    0.761038\n",
       "Z   -0.205158\n",
       "Name: C, dtype: float64"
      ]
     },
     "execution_count": 37,
     "metadata": {},
     "output_type": "execute_result"
    }
   ],
   "source": [
    "df.iloc[:, 2]"
   ]
  },
  {
   "cell_type": "markdown",
   "id": "a2c5af05",
   "metadata": {},
   "source": [
    "15. Вывести значения строки 'C'  (сделать это двумя способами)"
   ]
  },
  {
   "cell_type": "code",
   "execution_count": 39,
   "id": "89ecbdc8",
   "metadata": {},
   "outputs": [
    {
     "data": {
      "text/plain": [
       "A    0.144044\n",
       "B    1.454274\n",
       "C    0.761038\n",
       "D    0.121675\n",
       "E    0.443863\n",
       "Name: Y, dtype: float64"
      ]
     },
     "execution_count": 39,
     "metadata": {},
     "output_type": "execute_result"
    }
   ],
   "source": [
    "df.iloc[2]"
   ]
  },
  {
   "cell_type": "code",
   "execution_count": 41,
   "id": "c70e7f1d",
   "metadata": {},
   "outputs": [
    {
     "data": {
      "text/plain": [
       "A    0.144044\n",
       "B    1.454274\n",
       "C    0.761038\n",
       "D    0.121675\n",
       "E    0.443863\n",
       "Name: Y, dtype: float64"
      ]
     },
     "execution_count": 41,
     "metadata": {},
     "output_type": "execute_result"
    }
   ],
   "source": [
    "df.loc[df.index[2]]"
   ]
  },
  {
   "cell_type": "markdown",
   "id": "98db347c",
   "metadata": {},
   "source": [
    "16. как вывести значение -0.746859 (находящееся в строке B и столбце Y)?"
   ]
  },
  {
   "cell_type": "code",
   "execution_count": 42,
   "id": "6343b95e",
   "metadata": {},
   "outputs": [
    {
     "data": {
      "text/plain": [
       "-0.1513572082976979"
      ]
     },
     "execution_count": 42,
     "metadata": {},
     "output_type": "execute_result"
    }
   ],
   "source": [
    "df.iloc[1, 2]"
   ]
  },
  {
   "cell_type": "markdown",
   "id": "994e2474",
   "metadata": {},
   "source": [
    "17. Как вывести значения, находящиеся в пределах строк 'A', 'B' и столбцов 'W','Y'?"
   ]
  },
  {
   "cell_type": "code",
   "execution_count": 43,
   "id": "51b596d3",
   "metadata": {},
   "outputs": [
    {
     "data": {
      "text/html": [
       "<div>\n",
       "<style scoped>\n",
       "    .dataframe tbody tr th:only-of-type {\n",
       "        vertical-align: middle;\n",
       "    }\n",
       "\n",
       "    .dataframe tbody tr th {\n",
       "        vertical-align: top;\n",
       "    }\n",
       "\n",
       "    .dataframe thead th {\n",
       "        text-align: right;\n",
       "    }\n",
       "</style>\n",
       "<table border=\"1\" class=\"dataframe\">\n",
       "  <thead>\n",
       "    <tr style=\"text-align: right;\">\n",
       "      <th></th>\n",
       "      <th>A</th>\n",
       "      <th>C</th>\n",
       "    </tr>\n",
       "  </thead>\n",
       "  <tbody>\n",
       "    <tr>\n",
       "      <th>W</th>\n",
       "      <td>1.764052</td>\n",
       "      <td>0.978738</td>\n",
       "    </tr>\n",
       "    <tr>\n",
       "      <th>X</th>\n",
       "      <td>-0.977278</td>\n",
       "      <td>-0.151357</td>\n",
       "    </tr>\n",
       "  </tbody>\n",
       "</table>\n",
       "</div>"
      ],
      "text/plain": [
       "          A         C\n",
       "W  1.764052  0.978738\n",
       "X -0.977278 -0.151357"
      ]
     },
     "execution_count": 43,
     "metadata": {},
     "output_type": "execute_result"
    }
   ],
   "source": [
    "df.iloc[[0, 1], [0, 2]]"
   ]
  },
  {
   "cell_type": "code",
   "execution_count": null,
   "id": "d89b5025",
   "metadata": {},
   "outputs": [],
   "source": []
  }
 ],
 "metadata": {
  "kernelspec": {
   "display_name": "Python 3 (ipykernel)",
   "language": "python",
   "name": "python3"
  },
  "language_info": {
   "codemirror_mode": {
    "name": "ipython",
    "version": 3
   },
   "file_extension": ".py",
   "mimetype": "text/x-python",
   "name": "python",
   "nbconvert_exporter": "python",
   "pygments_lexer": "ipython3",
   "version": "3.10.9"
  }
 },
 "nbformat": 4,
 "nbformat_minor": 5
}
